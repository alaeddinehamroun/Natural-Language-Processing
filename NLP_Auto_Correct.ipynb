{
  "nbformat": 4,
  "nbformat_minor": 0,
  "metadata": {
    "colab": {
      "name": "NLP_Auto_Correct.ipynb",
      "provenance": [],
      "authorship_tag": "ABX9TyO3cDYDCJ5ioD74dKy7LbEh",
      "include_colab_link": true
    },
    "kernelspec": {
      "name": "python3",
      "display_name": "Python 3"
    },
    "language_info": {
      "name": "python"
    }
  },
  "cells": [
    {
      "cell_type": "markdown",
      "metadata": {
        "id": "view-in-github",
        "colab_type": "text"
      },
      "source": [
        "<a href=\"https://colab.research.google.com/github/alaeddinehamroun/Natural-Language-Processing/blob/main/NLP_Auto_Correct.ipynb\" target=\"_parent\"><img src=\"https://colab.research.google.com/assets/colab-badge.svg\" alt=\"Open In Colab\"/></a>"
      ]
    },
    {
      "cell_type": "markdown",
      "source": [
        "Reference: Peter Norvig's [article](https://norvig.com/spell-correct.html) in 2007"
      ],
      "metadata": {
        "id": "Mbh7qzYUyvUl"
      }
    },
    {
      "cell_type": "markdown",
      "source": [
        "# Data Preprocessing"
      ],
      "metadata": {
        "id": "4iCRwkJDzE__"
      }
    },
    {
      "cell_type": "code",
      "execution_count": 18,
      "metadata": {
        "id": "drYX2_M_xNyP"
      },
      "outputs": [],
      "source": [
        "import re\n",
        "from collections import Counter\n",
        "import numpy as np\n",
        "import pandas as pd"
      ]
    },
    {
      "cell_type": "code",
      "source": [
        "def process_data(file_name):\n",
        "    \"\"\"\n",
        "    Input: \n",
        "        A file_name.\n",
        "    Output: \n",
        "        words: a list containing all the words in the corpus (text file you read) in lower case. \n",
        "    \"\"\"\n",
        "    words = [] # return this variable correctly\n",
        "    with open(file_name) as f:\n",
        "        file_name_data = f.read()\n",
        "    file_name_data=file_name_data.lower()\n",
        "    words = re.findall('\\w+',file_name_data)\n",
        "    \n",
        "    return words"
      ],
      "metadata": {
        "id": "HpQKwirRzH9B"
      },
      "execution_count": 19,
      "outputs": []
    },
    {
      "cell_type": "code",
      "source": [
        "word_l = process_data('shakespeare.txt')\n",
        "vocab = set(word_l)  # this will be your new vocabulary\n",
        "print(f\"The first ten words in the text are: \\n{word_l[0:10]}\")\n",
        "print(f\"There are {len(vocab)} unique words in the vocabulary.\")"
      ],
      "metadata": {
        "colab": {
          "base_uri": "https://localhost:8080/"
        },
        "id": "eAZB0VmMxYnC",
        "outputId": "88d2f42b-2994-41b0-ba27-8da68bdb15a3"
      },
      "execution_count": 21,
      "outputs": [
        {
          "output_type": "stream",
          "name": "stdout",
          "text": [
            "The first ten words in the text are: \n",
            "['o', 'for', 'a', 'muse', 'of', 'fire', 'that', 'would', 'ascend', 'the']\n",
            "There are 6116 unique words in the vocabulary.\n"
          ]
        }
      ]
    },
    {
      "cell_type": "code",
      "source": [
        "def get_count(word_l):\n",
        "    '''\n",
        "    Input:\n",
        "        word_l: a set of words representing the corpus. \n",
        "    Output:\n",
        "        word_count_dict: The wordcount dictionary where key is the word and value is its frequency.\n",
        "    '''\n",
        "    \n",
        "    word_count_dict = {}  # fill this with word counts\n",
        "    word_count_dict = Counter(word_l)  \n",
        "    return word_count_dict"
      ],
      "metadata": {
        "id": "RqIdbMpyxbOA"
      },
      "execution_count": 22,
      "outputs": []
    },
    {
      "cell_type": "code",
      "source": [
        "word_count_dict = get_count(word_l)\n",
        "print(f\"There are {len(word_count_dict)} key values pairs\")\n",
        "print(f\"The count for the word 'thee' is {word_count_dict.get('thee',0)}\")"
      ],
      "metadata": {
        "colab": {
          "base_uri": "https://localhost:8080/"
        },
        "id": "f8U67kExxgaH",
        "outputId": "9c7a085a-b38a-4e1d-db38-4eda04f4b451"
      },
      "execution_count": 23,
      "outputs": [
        {
          "output_type": "stream",
          "name": "stdout",
          "text": [
            "There are 6116 key values pairs\n",
            "The count for the word 'thee' is 240\n"
          ]
        }
      ]
    },
    {
      "cell_type": "code",
      "source": [
        "def get_probs(word_count_dict):\n",
        "    '''\n",
        "    Input:\n",
        "        word_count_dict: The wordcount dictionary where key is the word and value is its frequency.\n",
        "    Output:\n",
        "        probs: A dictionary where keys are the words and the values are the probability that a word will occur. \n",
        "    '''\n",
        "    probs = {}  # return this variable correctly\n",
        "    \n",
        "    m = sum(word_count_dict.values())\n",
        "    for key in word_count_dict.keys():\n",
        "        probs[key] = word_count_dict[key] / m\n",
        "    return probs"
      ],
      "metadata": {
        "id": "WvSWtp72xkxn"
      },
      "execution_count": 24,
      "outputs": []
    },
    {
      "cell_type": "code",
      "source": [
        "probs = get_probs(word_count_dict)\n",
        "print(f\"Length of probs is {len(probs)}\")\n",
        "print(f\"P('thee') is {probs['thee']:.4f}\")"
      ],
      "metadata": {
        "colab": {
          "base_uri": "https://localhost:8080/"
        },
        "id": "vvhQZ-OTxr9C",
        "outputId": "fb9f6d3c-a2f0-43d4-8948-c139d92e9c0f"
      },
      "execution_count": 25,
      "outputs": [
        {
          "output_type": "stream",
          "name": "stdout",
          "text": [
            "Length of probs is 6116\n",
            "P('thee') is 0.0045\n"
          ]
        }
      ]
    },
    {
      "cell_type": "markdown",
      "source": [
        "# String Manipulations"
      ],
      "metadata": {
        "id": "MoM5YF2v4Owq"
      }
    },
    {
      "cell_type": "markdown",
      "source": [
        "![GenericListComp3.png](data:image/png;base64,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)"
      ],
      "metadata": {
        "id": "UjFek-xc5TCg"
      }
    },
    {
      "cell_type": "code",
      "source": [
        "def delete_letter(word, verbose=False):\n",
        "    '''\n",
        "    Input:\n",
        "        word: the string/word for which you will generate all possible words \n",
        "                in the vocabulary which have 1 missing character\n",
        "    Output:\n",
        "        delete_l: a list of all possible strings obtained by deleting 1 character from word\n",
        "    '''\n",
        "    \n",
        "    delete_l = []\n",
        "    split_l = []\n",
        "    \n",
        "    for c in range(len(word)):\n",
        "        split_l.append((word[:c],word[c:]))\n",
        "    for a,b in split_l:\n",
        "        delete_l.append(a+b[1:])\n",
        "\n",
        "    if verbose: print(f\"input word {word}, \\nsplit_l = {split_l}, \\ndelete_l = {delete_l}\")\n",
        "\n",
        "    return delete_l"
      ],
      "metadata": {
        "id": "ASsWWRGu4TOU"
      },
      "execution_count": 26,
      "outputs": []
    },
    {
      "cell_type": "code",
      "source": [
        "delete_word_l = delete_letter(word=\"cans\",\n",
        "                        verbose=True)"
      ],
      "metadata": {
        "colab": {
          "base_uri": "https://localhost:8080/"
        },
        "id": "-QkLht_F5mG4",
        "outputId": "f0864cb7-7d92-4780-b95d-eda487d5eb7f"
      },
      "execution_count": 27,
      "outputs": [
        {
          "output_type": "stream",
          "name": "stdout",
          "text": [
            "input word cans, \n",
            "split_l = [('', 'cans'), ('c', 'ans'), ('ca', 'ns'), ('can', 's')], \n",
            "delete_l = ['ans', 'cns', 'cas', 'can']\n"
          ]
        }
      ]
    },
    {
      "cell_type": "code",
      "source": [
        "def switch_letter(word, verbose=False):\n",
        "    '''\n",
        "    Input:\n",
        "        word: input string\n",
        "     Output:\n",
        "        switches: a list of all possible strings with one adjacent charater switched\n",
        "    ''' \n",
        "    \n",
        "    switch_l = []\n",
        "    split_l = []\n",
        "    \n",
        "    len_word=len(word)\n",
        "    for c in range(len_word):\n",
        "        split_l.append((word[:c],word[c:]))\n",
        "    switch_l = [a + b[1] + b[0] + b[2:] for a,b in split_l if len(b) >= 2]\n",
        "    \n",
        "    if verbose: print(f\"Input word = {word} \\nsplit_l = {split_l} \\nswitch_l = {switch_l}\") \n",
        "\n",
        "    return switch_l"
      ],
      "metadata": {
        "id": "7vVyMI665v-v"
      },
      "execution_count": 28,
      "outputs": []
    },
    {
      "cell_type": "code",
      "source": [
        "switch_word_l = switch_letter(word=\"eta\",\n",
        "                         verbose=True)"
      ],
      "metadata": {
        "colab": {
          "base_uri": "https://localhost:8080/"
        },
        "id": "f4gNWCGa5ywJ",
        "outputId": "4a3cea50-d051-44e5-9194-00b676782730"
      },
      "execution_count": 29,
      "outputs": [
        {
          "output_type": "stream",
          "name": "stdout",
          "text": [
            "Input word = eta \n",
            "split_l = [('', 'eta'), ('e', 'ta'), ('et', 'a')] \n",
            "switch_l = ['tea', 'eat']\n"
          ]
        }
      ]
    },
    {
      "cell_type": "code",
      "source": [
        "def replace_letter(word, verbose=False):\n",
        "    '''\n",
        "    Input:\n",
        "        word: the input string/word \n",
        "    Output:\n",
        "        replaces: a list of all possible strings where we replaced one letter from the original word. \n",
        "    ''' \n",
        "    \n",
        "    letters = 'abcdefghijklmnopqrstuvwxyz'\n",
        "    replace_l = []\n",
        "    split_l = []\n",
        "    \n",
        "    for c in range(len(word)):\n",
        "        split_l.append((word[0:c],word[c:]))\n",
        "    replace_l = [a + l + (b[1:] if len(b)> 1 else '') for a,b in split_l if b for l in letters]\n",
        "    replace_set=set(replace_l)    \n",
        "    replace_set.remove(word)\n",
        "    \n",
        "    # turn the set back into a list and sort it, for easier viewing\n",
        "    replace_l = sorted(list(replace_set))\n",
        "    \n",
        "    if verbose: print(f\"Input word = {word} \\nsplit_l = {split_l} \\nreplace_l {replace_l}\")   \n",
        "    \n",
        "    return replace_l"
      ],
      "metadata": {
        "id": "QR2zk5Dk52IJ"
      },
      "execution_count": 30,
      "outputs": []
    },
    {
      "cell_type": "code",
      "source": [
        "replace_l = replace_letter(word='can',\n",
        "                              verbose=True)"
      ],
      "metadata": {
        "colab": {
          "base_uri": "https://localhost:8080/"
        },
        "id": "NHH58s9Q55GT",
        "outputId": "8eccd723-ac4a-448c-d96c-f0ef65eeb357"
      },
      "execution_count": 31,
      "outputs": [
        {
          "output_type": "stream",
          "name": "stdout",
          "text": [
            "Input word = can \n",
            "split_l = [('', 'can'), ('c', 'an'), ('ca', 'n')] \n",
            "replace_l ['aan', 'ban', 'caa', 'cab', 'cac', 'cad', 'cae', 'caf', 'cag', 'cah', 'cai', 'caj', 'cak', 'cal', 'cam', 'cao', 'cap', 'caq', 'car', 'cas', 'cat', 'cau', 'cav', 'caw', 'cax', 'cay', 'caz', 'cbn', 'ccn', 'cdn', 'cen', 'cfn', 'cgn', 'chn', 'cin', 'cjn', 'ckn', 'cln', 'cmn', 'cnn', 'con', 'cpn', 'cqn', 'crn', 'csn', 'ctn', 'cun', 'cvn', 'cwn', 'cxn', 'cyn', 'czn', 'dan', 'ean', 'fan', 'gan', 'han', 'ian', 'jan', 'kan', 'lan', 'man', 'nan', 'oan', 'pan', 'qan', 'ran', 'san', 'tan', 'uan', 'van', 'wan', 'xan', 'yan', 'zan']\n"
          ]
        }
      ]
    },
    {
      "cell_type": "code",
      "source": [
        "def insert_letter(word, verbose=False):\n",
        "    '''\n",
        "    Input:\n",
        "        word: the input string/word \n",
        "    Output:\n",
        "        inserts: a set of all possible strings with one new letter inserted at every offset\n",
        "    ''' \n",
        "    letters = 'abcdefghijklmnopqrstuvwxyz'\n",
        "    insert_l = []\n",
        "    split_l = []\n",
        "    \n",
        "    for c in range(len(word)+1):\n",
        "        split_l.append((word[0:c],word[c:]))\n",
        "    insert_l = [ a + l + b for a,b in split_l for l in letters]\n",
        "\n",
        "    if verbose: print(f\"Input word {word} \\nsplit_l = {split_l} \\ninsert_l = {insert_l}\")\n",
        "    \n",
        "    return insert_l"
      ],
      "metadata": {
        "id": "jSsdlWls58mw"
      },
      "execution_count": 32,
      "outputs": []
    },
    {
      "cell_type": "code",
      "source": [
        "insert_l = insert_letter('at', True)\n",
        "print(f\"Number of strings output by insert_letter('at') is {len(insert_l)}\")"
      ],
      "metadata": {
        "colab": {
          "base_uri": "https://localhost:8080/"
        },
        "id": "vCOVtZ276DG5",
        "outputId": "f345b81f-3816-4b4c-93f1-82da91f476f4"
      },
      "execution_count": 33,
      "outputs": [
        {
          "output_type": "stream",
          "name": "stdout",
          "text": [
            "Input word at \n",
            "split_l = [('', 'at'), ('a', 't'), ('at', '')] \n",
            "insert_l = ['aat', 'bat', 'cat', 'dat', 'eat', 'fat', 'gat', 'hat', 'iat', 'jat', 'kat', 'lat', 'mat', 'nat', 'oat', 'pat', 'qat', 'rat', 'sat', 'tat', 'uat', 'vat', 'wat', 'xat', 'yat', 'zat', 'aat', 'abt', 'act', 'adt', 'aet', 'aft', 'agt', 'aht', 'ait', 'ajt', 'akt', 'alt', 'amt', 'ant', 'aot', 'apt', 'aqt', 'art', 'ast', 'att', 'aut', 'avt', 'awt', 'axt', 'ayt', 'azt', 'ata', 'atb', 'atc', 'atd', 'ate', 'atf', 'atg', 'ath', 'ati', 'atj', 'atk', 'atl', 'atm', 'atn', 'ato', 'atp', 'atq', 'atr', 'ats', 'att', 'atu', 'atv', 'atw', 'atx', 'aty', 'atz']\n",
            "Number of strings output by insert_letter('at') is 78\n"
          ]
        }
      ]
    },
    {
      "cell_type": "code",
      "source": [
        "def edit_one_letter(word, allow_switches = True):\n",
        "    \"\"\"\n",
        "    Input:\n",
        "        word: the string/word for which we will generate all possible wordsthat are one edit away.\n",
        "    Output:\n",
        "        edit_one_set: a set of words with one possible edit. Please return a set. and not a list.\n",
        "    \"\"\"\n",
        "    \n",
        "    edit_one_set = set()\n",
        "    \n",
        "    edit_one_set.update(delete_letter(word))\n",
        "    if allow_switches:\n",
        "        edit_one_set.update(switch_letter(word))\n",
        "    edit_one_set.update(replace_letter(word))\n",
        "    edit_one_set.update(insert_letter(word))\n",
        "\n",
        "    return edit_one_set"
      ],
      "metadata": {
        "id": "gClIF21y6d-q"
      },
      "execution_count": 34,
      "outputs": []
    },
    {
      "cell_type": "code",
      "source": [
        "tmp_word = \"at\"\n",
        "tmp_edit_one_set = edit_one_letter(tmp_word)\n",
        "# turn this into a list to sort it, in order to view it\n",
        "tmp_edit_one_l = sorted(list(tmp_edit_one_set))\n",
        "\n",
        "print(f\"input word {tmp_word} \\nedit_one_l \\n{tmp_edit_one_l}\\n\")\n",
        "print(f\"The type of the returned object should be a set {type(tmp_edit_one_set)}\")\n",
        "print(f\"Number of outputs from edit_one_letter('at') is {len(edit_one_letter('at'))}\")"
      ],
      "metadata": {
        "colab": {
          "base_uri": "https://localhost:8080/"
        },
        "id": "a_sWaf5a6j_D",
        "outputId": "1e62d1f4-e5ff-4c1c-bbe5-ee621a3ec286"
      },
      "execution_count": 35,
      "outputs": [
        {
          "output_type": "stream",
          "name": "stdout",
          "text": [
            "input word at \n",
            "edit_one_l \n",
            "['a', 'aa', 'aat', 'ab', 'abt', 'ac', 'act', 'ad', 'adt', 'ae', 'aet', 'af', 'aft', 'ag', 'agt', 'ah', 'aht', 'ai', 'ait', 'aj', 'ajt', 'ak', 'akt', 'al', 'alt', 'am', 'amt', 'an', 'ant', 'ao', 'aot', 'ap', 'apt', 'aq', 'aqt', 'ar', 'art', 'as', 'ast', 'ata', 'atb', 'atc', 'atd', 'ate', 'atf', 'atg', 'ath', 'ati', 'atj', 'atk', 'atl', 'atm', 'atn', 'ato', 'atp', 'atq', 'atr', 'ats', 'att', 'atu', 'atv', 'atw', 'atx', 'aty', 'atz', 'au', 'aut', 'av', 'avt', 'aw', 'awt', 'ax', 'axt', 'ay', 'ayt', 'az', 'azt', 'bat', 'bt', 'cat', 'ct', 'dat', 'dt', 'eat', 'et', 'fat', 'ft', 'gat', 'gt', 'hat', 'ht', 'iat', 'it', 'jat', 'jt', 'kat', 'kt', 'lat', 'lt', 'mat', 'mt', 'nat', 'nt', 'oat', 'ot', 'pat', 'pt', 'qat', 'qt', 'rat', 'rt', 'sat', 'st', 't', 'ta', 'tat', 'tt', 'uat', 'ut', 'vat', 'vt', 'wat', 'wt', 'xat', 'xt', 'yat', 'yt', 'zat', 'zt']\n",
            "\n",
            "The type of the returned object should be a set <class 'set'>\n",
            "Number of outputs from edit_one_letter('at') is 129\n"
          ]
        }
      ]
    },
    {
      "cell_type": "code",
      "source": [
        "def edit_two_letters(word, allow_switches = True):\n",
        "    '''\n",
        "    Input:\n",
        "        word: the input string/word \n",
        "    Output:\n",
        "        edit_two_set: a set of strings with all possible two edits\n",
        "    '''\n",
        "    \n",
        "    edit_two_set = set()\n",
        "    \n",
        "    edit_one = edit_one_letter(word,allow_switches=allow_switches)\n",
        "    for w in edit_one:\n",
        "        if w:\n",
        "            edit_two = edit_one_letter(w,allow_switches=allow_switches)\n",
        "            edit_two_set.update(edit_two)\n",
        "    \n",
        "    return edit_two_set"
      ],
      "metadata": {
        "id": "IcEWdmHM6rxN"
      },
      "execution_count": 36,
      "outputs": []
    },
    {
      "cell_type": "code",
      "source": [
        "tmp_edit_two_set = edit_two_letters(\"a\")\n",
        "tmp_edit_two_l = sorted(list(tmp_edit_two_set))\n",
        "print(f\"Number of strings with edit distance of two: {len(tmp_edit_two_l)}\")\n",
        "print(f\"First 10 strings {tmp_edit_two_l[:10]}\")\n",
        "print(f\"Last 10 strings {tmp_edit_two_l[-10:]}\")\n",
        "print(f\"The data type of the returned object should be a set {type(tmp_edit_two_set)}\")\n",
        "print(f\"Number of strings that are 2 edit distances from 'at' is {len(edit_two_letters('at'))}\")"
      ],
      "metadata": {
        "colab": {
          "base_uri": "https://localhost:8080/"
        },
        "id": "nkJnGhdM6vDr",
        "outputId": "d6300a1b-62d9-43bf-b54b-5750416815a2"
      },
      "execution_count": 37,
      "outputs": [
        {
          "output_type": "stream",
          "name": "stdout",
          "text": [
            "Number of strings with edit distance of two: 2654\n",
            "First 10 strings ['', 'a', 'aa', 'aaa', 'aab', 'aac', 'aad', 'aae', 'aaf', 'aag']\n",
            "Last 10 strings ['zv', 'zva', 'zw', 'zwa', 'zx', 'zxa', 'zy', 'zya', 'zz', 'zza']\n",
            "The data type of the returned object should be a set <class 'set'>\n",
            "Number of strings that are 2 edit distances from 'at' is 7154\n"
          ]
        }
      ]
    },
    {
      "cell_type": "code",
      "source": [
        "# example of logical operation on lists or sets\n",
        "print( [] and [\"a\",\"b\"] )\n",
        "print( [] or [\"a\",\"b\"] )\n",
        "#example of Short circuit behavior\n",
        "val1 =  [\"Most\",\"Likely\"] or [\"Less\",\"so\"] or [\"least\",\"of\",\"all\"]  # selects first, does not evalute remainder\n",
        "print(val1)\n",
        "val2 =  [] or [] or [\"least\",\"of\",\"all\"] # continues evaluation until there is a non-empty list\n",
        "print(val2)"
      ],
      "metadata": {
        "colab": {
          "base_uri": "https://localhost:8080/"
        },
        "id": "Zi37g8bz62IH",
        "outputId": "98a354d5-17de-4904-ba30-2febcdc2ac07"
      },
      "execution_count": 38,
      "outputs": [
        {
          "output_type": "stream",
          "name": "stdout",
          "text": [
            "[]\n",
            "['a', 'b']\n",
            "['Most', 'Likely']\n",
            "['least', 'of', 'all']\n"
          ]
        }
      ]
    },
    {
      "cell_type": "code",
      "source": [
        "def get_corrections(word, probs, vocab, n=2, verbose = False):\n",
        "    '''\n",
        "    Input: \n",
        "        word: a user entered string to check for suggestions\n",
        "        probs: a dictionary that maps each word to its probability in the corpus\n",
        "        vocab: a set containing all the vocabulary\n",
        "        n: number of possible word corrections you want returned in the dictionary\n",
        "    Output: \n",
        "        n_best: a list of tuples with the most probable n corrected words and their probabilities.\n",
        "    '''\n",
        "    \n",
        "    suggestions = []\n",
        "    n_best = []\n",
        "    \n",
        "    suggestions = list((word in vocab and word) or edit_one_letter(word).intersection(vocab) or edit_two_letters(word).intersection(vocab))\n",
        "    n_best = [[s,probs[s]] for s in list(reversed(suggestions))]\n",
        "    \n",
        "    if verbose: print(\"suggestions = \", suggestions)\n",
        "\n",
        "    return n_best"
      ],
      "metadata": {
        "id": "PdqL9-iU66Si"
      },
      "execution_count": 39,
      "outputs": []
    },
    {
      "cell_type": "code",
      "source": [
        "# Test your implementation\n",
        "my_word = 'dys' \n",
        "tmp_corrections = get_corrections(my_word, probs, vocab, 2, verbose=True)\n",
        "for i, word_prob in enumerate(tmp_corrections):\n",
        "    print(f\"word {i}: {word_prob[0]}, probability {word_prob[1]:.6f}\")\n",
        "\n",
        "print(f\"data type of corrections {type(tmp_corrections)}\")"
      ],
      "metadata": {
        "colab": {
          "base_uri": "https://localhost:8080/"
        },
        "id": "n-dqadrZ6-Fh",
        "outputId": "984867e6-d92f-40c9-fdd4-7a4544c1cfc0"
      },
      "execution_count": 41,
      "outputs": [
        {
          "output_type": "stream",
          "name": "stdout",
          "text": [
            "suggestions =  ['days', 'dye']\n",
            "word 0: dye, probability 0.000019\n",
            "word 1: days, probability 0.000410\n",
            "data type of corrections <class 'list'>\n"
          ]
        }
      ]
    },
    {
      "cell_type": "markdown",
      "source": [
        "# Minimum Edit distance"
      ],
      "metadata": {
        "id": "9z4PY0rZ7FHF"
      }
    },
    {
      "cell_type": "code",
      "source": [
        "def min_edit_distance(source, target, ins_cost = 1, del_cost = 1, rep_cost = 2):\n",
        "    '''\n",
        "    Input: \n",
        "        source: a string corresponding to the string you are starting with\n",
        "        target: a string corresponding to the string you want to end with\n",
        "        ins_cost: an integer setting the insert cost\n",
        "        del_cost: an integer setting the delete cost\n",
        "        rep_cost: an integer setting the replace cost\n",
        "    Output:\n",
        "        D: a matrix of len(source)+1 by len(target)+1 containing minimum edit distances\n",
        "        med: the minimum edit distance (med) required to convert the source string to the target\n",
        "    '''\n",
        "    # use deletion and insert cost as  1\n",
        "    m = len(source) \n",
        "    n = len(target) \n",
        "    #initialize cost matrix with zeros and dimensions (m+1,n+1) \n",
        "    D = np.zeros((m+1, n+1), dtype=int) \n",
        "        \n",
        "    # Fill in column 0, from row 1 to row m, both inclusive\n",
        "    for row in range(1,m+1): # Replace None with the proper range\n",
        "        D[row,0] = D[row-1,0] + del_cost\n",
        "        \n",
        "    # Fill in row 0, for all columns from 1 to n, both inclusive\n",
        "    for col in range(1,n+1): # Replace None with the proper range\n",
        "        D[0,col] = D[0,col-1] + ins_cost\n",
        "        \n",
        "    # Loop through row 1 to row m, both inclusive\n",
        "    for row in range(1,m+1): \n",
        "        \n",
        "        # Loop through column 1 to column n, both inclusive\n",
        "        for col in range(1,n+1):\n",
        "            \n",
        "            # Intialize r_cost to the 'replace' cost that is passed into this function\n",
        "            r_cost = rep_cost\n",
        "            \n",
        "            # Check to see if source character at the previous row\n",
        "            # matches the target character at the previous column, \n",
        "            if source[row-1] == target[col-1]:\n",
        "                # Update the replacement cost to 0 if source and target are the same\n",
        "                r_cost = 0\n",
        "                \n",
        "            # Update the cost at row, col based on previous entries in the cost matrix\n",
        "            # Refer to the equation calculate for D[i,j] (the minimum of three calculated costs)\n",
        "            D[row,col] = min([D[row-1,col]+del_cost, D[row,col-1]+ins_cost, D[row-1,col-1]+r_cost])\n",
        "          \n",
        "    # Set the minimum edit distance with the cost found at row m, column n\n",
        "    med = D[m,n]\n",
        "    \n",
        "    return D, med"
      ],
      "metadata": {
        "id": "Nagd-ftp7JFa"
      },
      "execution_count": 42,
      "outputs": []
    },
    {
      "cell_type": "code",
      "source": [
        "# testing your implementation \n",
        "source =  'play'\n",
        "target = 'stay'\n",
        "matrix, min_edits = min_edit_distance(source, target)\n",
        "print(\"minimum edits: \",min_edits, \"\\n\")\n",
        "idx = list('#' + source)\n",
        "cols = list('#' + target)\n",
        "df = pd.DataFrame(matrix, index=idx, columns= cols)\n",
        "print(df)"
      ],
      "metadata": {
        "colab": {
          "base_uri": "https://localhost:8080/"
        },
        "id": "faYQs-cJ7Sku",
        "outputId": "9da55713-fa57-4609-8610-dd09acc1826b"
      },
      "execution_count": 43,
      "outputs": [
        {
          "output_type": "stream",
          "name": "stdout",
          "text": [
            "minimum edits:  4 \n",
            "\n",
            "   #  s  t  a  y\n",
            "#  0  1  2  3  4\n",
            "p  1  2  3  4  5\n",
            "l  2  3  4  5  6\n",
            "a  3  4  5  4  5\n",
            "y  4  5  6  5  4\n"
          ]
        }
      ]
    },
    {
      "cell_type": "code",
      "source": [
        "# testing your implementation \n",
        "source =  'eer'\n",
        "target = 'near'\n",
        "matrix, min_edits = min_edit_distance(source, target)\n",
        "print(\"minimum edits: \",min_edits, \"\\n\")\n",
        "idx = list(source)\n",
        "idx.insert(0, '#')\n",
        "cols = list(target)\n",
        "cols.insert(0, '#')\n",
        "df = pd.DataFrame(matrix, index=idx, columns= cols)\n",
        "print(df)"
      ],
      "metadata": {
        "colab": {
          "base_uri": "https://localhost:8080/"
        },
        "id": "7EaNxpKZ7VVb",
        "outputId": "e3b9dfd5-4ab5-41b2-8ef3-4cf8e3d28328"
      },
      "execution_count": 44,
      "outputs": [
        {
          "output_type": "stream",
          "name": "stdout",
          "text": [
            "minimum edits:  3 \n",
            "\n",
            "   #  n  e  a  r\n",
            "#  0  1  2  3  4\n",
            "e  1  2  1  2  3\n",
            "e  2  3  2  3  4\n",
            "r  3  4  3  4  3\n"
          ]
        }
      ]
    },
    {
      "cell_type": "code",
      "source": [
        "source = \"eer\"\n",
        "targets = edit_one_letter(source,allow_switches = False)  #disable switches since min_edit_distance does not include them\n",
        "for t in targets:\n",
        "    _, min_edits = min_edit_distance(source, t,1,1,1)  # set ins, del, sub costs all to one\n",
        "    if min_edits != 1: print(source, t, min_edits)"
      ],
      "metadata": {
        "id": "otzRKg9t7YTQ"
      },
      "execution_count": 45,
      "outputs": []
    },
    {
      "cell_type": "code",
      "source": [
        "source = \"eer\"\n",
        "targets = edit_two_letters(source,allow_switches = False) #disable switches since min_edit_distance does not include them\n",
        "for t in targets:\n",
        "    _, min_edits = min_edit_distance(source, t,1,1,1)  # set ins, del, sub costs all to one\n",
        "    if min_edits != 2 and min_edits != 1: print(source, t, min_edits)"
      ],
      "metadata": {
        "colab": {
          "base_uri": "https://localhost:8080/"
        },
        "id": "2lSku2807bOO",
        "outputId": "06745c1d-ef71-4761-b786-485c29faaca3"
      },
      "execution_count": 46,
      "outputs": [
        {
          "output_type": "stream",
          "name": "stdout",
          "text": [
            "eer eer 0\n"
          ]
        }
      ]
    }
  ]
}